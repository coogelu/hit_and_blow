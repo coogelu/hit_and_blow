{
  "nbformat": 4,
  "nbformat_minor": 0,
  "metadata": {
    "colab": {
      "provenance": []
    },
    "kernelspec": {
      "name": "python3",
      "display_name": "Python 3"
    },
    "language_info": {
      "name": "python"
    }
  },
  "cells": [
    {
      "cell_type": "code",
      "source": [
        "#完成したやつ\n",
        "import random\n",
        "\n",
        "num_for_game = random.sample(range(10),5)\n",
        "print(f'答え： {num_for_game}') #テスト用のため最後に消す\n",
        "\n",
        "try:\n",
        "  while True:\n",
        "    player_num = list(input('５桁の数字：')) #プレイヤーが入力する数字\n",
        "    set_player_num = set(player_num)\n",
        "    if len(player_num) != 5:\n",
        "      print('5桁で入力してください')\n",
        "      continue\n",
        "    if len(set_player_num) < 5:\n",
        "      print('重複させないでください')\n",
        "      continue\n",
        "\n",
        "    int_player_num = [int(i) for i in player_num] #プレイヤーの数字をint化する\n",
        "    print(int_player_num)\n",
        "\n",
        "    hit = 0 #hit件数の初期化\n",
        "    unhit = [] #ブロー用のリストの初期化\n",
        "    blow = {}\n",
        "\n",
        "    for i in range(5):\n",
        "      if num_for_game[i] == int_player_num[i]:\n",
        "          hit+= 1\n",
        "      else:\n",
        "        unhit.append(int_player_num[i])\n",
        "        blow = set(num_for_game) & set(unhit)\n",
        "\n",
        "    print(unhit) #ブロー用のリストを作成\n",
        "    print(f'{len(blow)}blow')\n",
        "    print(f'{hit} hit')\n",
        "\n",
        "    if hit == 5:\n",
        "      print('CLEAR')\n",
        "      break\n",
        "\n",
        "except ValueError as e:\n",
        "  print('数字を入れてください')"
      ],
      "metadata": {
        "colab": {
          "base_uri": "https://localhost:8080/"
        },
        "id": "328Ivfmo4jeJ",
        "outputId": "73ed355e-ae9f-494a-aa68-53ab9e71c8b1"
      },
      "execution_count": 9,
      "outputs": [
        {
          "output_type": "stream",
          "name": "stdout",
          "text": [
            "答え： [2, 9, 3, 8, 7]\n",
            "５桁の数字：29738\n",
            "[2, 9, 7, 3, 8]\n",
            "[7, 3, 8]\n",
            "3blow\n",
            "2 hit\n",
            "５桁の数字：93872\n",
            "[9, 3, 8, 7, 2]\n",
            "[9, 3, 8, 7, 2]\n",
            "5blow\n",
            "0 hit\n",
            "５桁の数字：29387\n",
            "[2, 9, 3, 8, 7]\n",
            "[]\n",
            "0blow\n",
            "5 hit\n",
            "CLEAR\n"
          ]
        }
      ]
    },
    {
      "cell_type": "code",
      "source": [],
      "metadata": {
        "id": "kVTHUQmrO6oI"
      },
      "execution_count": null,
      "outputs": []
    }
  ]
}